{
  "nbformat": 4,
  "nbformat_minor": 0,
  "metadata": {
    "colab": {
      "provenance": []
    },
    "kernelspec": {
      "name": "python3",
      "display_name": "Python 3"
    },
    "language_info": {
      "name": "python"
    }
  },
  "cells": [
    {
      "cell_type": "markdown",
      "source": [
        "**Steps to implement web scraping in python to extract IMDb movie ratings and its ratings:**"
      ],
      "metadata": {
        "id": "K2Z8Oi9wC2lg"
      }
    },
    {
      "cell_type": "markdown",
      "source": [
        "*   Import the required modules.\n",
        "\n"
      ],
      "metadata": {
        "id": "CKNIWYtbC7GD"
      }
    },
    {
      "cell_type": "code",
      "source": [
        "import requests\n",
        "from bs4 import BeautifulSoup\n",
        "import json\n",
        "import pandas as pd"
      ],
      "metadata": {
        "id": "lnsgq2ZiDDRt"
      },
      "execution_count": 45,
      "outputs": []
    },
    {
      "cell_type": "markdown",
      "source": [
        "\n",
        "\n",
        "*   Access the HTML content from the webpage by assigning the URL and creating a soap object.\n",
        "\n"
      ],
      "metadata": {
        "id": "yxjkGTGsDJAW"
      }
    },
    {
      "cell_type": "code",
      "source": [
        "# URL of the IMDb Top Rated Movies page\n",
        "url = \"https://www.imdb.com/chart/top/\"\n",
        "\n",
        "# Headers to mimic a browser request\n",
        "headers = {'User-Agent': 'Mozilla/5.0 (Macintosh; Intel Mac OS X 10_15_7) AppleWebKit/537.36 (KHTML, like Gecko) Chrome/132.0.0.0 Safari/537.36'}\n",
        "\n",
        "# Send a GET request to the URL\n",
        "response = requests.get(url, headers=headers)\n",
        "\n",
        "# Parse the HTML content using BeautifulSoup\n",
        "beauty = BeautifulSoup(response.content, 'html.parser')"
      ],
      "metadata": {
        "id": "ar3Wis2NDNjy"
      },
      "execution_count": 46,
      "outputs": []
    },
    {
      "cell_type": "markdown",
      "source": [
        "\n",
        "\n",
        "*   Extract the movie ratings and their details. Here, we are extracting data from the BeautifulSoup object using Html tags like href, title, etc.\n",
        "\n"
      ],
      "metadata": {
        "id": "pX1o5d8TDSbQ"
      }
    },
    {
      "cell_type": "code",
      "source": [
        "# Find the <script> tag with type=\"application/ld+json\"\n",
        "script_tag = beauty.find('script', type='application/ld+json')\n",
        "\n",
        "# Extract the JSON data from the script tag\n",
        "json_data = json.loads(script_tag.string)\n",
        "\n",
        "# Print the JSON data (or process it as needed)\n",
        "movies = [item[\"item\"] for item in json_data[\"itemListElement\"][:1]]\n",
        "print(json.dumps(movies, indent=1))"
      ],
      "metadata": {
        "colab": {
          "base_uri": "https://localhost:8080/"
        },
        "id": "QmkBX5aKDW5-",
        "outputId": "e9cd04af-a0de-410e-fab8-4b24271bee6d"
      },
      "execution_count": 47,
      "outputs": [
        {
          "output_type": "stream",
          "name": "stdout",
          "text": [
            "[\n",
            " {\n",
            "  \"@type\": \"Movie\",\n",
            "  \"url\": \"https://www.imdb.com/title/tt0111161/\",\n",
            "  \"name\": \"The Shawshank Redemption\",\n",
            "  \"description\": \"A banker convicted of uxoricide forms a friendship over a quarter century with a hardened convict, while maintaining his innocence and trying to remain hopeful through simple compassion.\",\n",
            "  \"image\": \"https://m.media-amazon.com/images/M/MV5BMDAyY2FhYjctNDc5OS00MDNlLThiMGUtY2UxYWVkNGY2ZjljXkEyXkFqcGc@._V1_.jpg\",\n",
            "  \"aggregateRating\": {\n",
            "   \"@type\": \"AggregateRating\",\n",
            "   \"bestRating\": 10,\n",
            "   \"worstRating\": 1,\n",
            "   \"ratingValue\": 9.3,\n",
            "   \"ratingCount\": 3070035\n",
            "  },\n",
            "  \"contentRating\": \"R\",\n",
            "  \"genre\": \"Drama\",\n",
            "  \"duration\": \"PT2H22M\"\n",
            " }\n",
            "]\n"
          ]
        }
      ]
    },
    {
      "cell_type": "markdown",
      "source": [
        "\n",
        "\n",
        "*   After extracting the movie details, create an empty list and store the details in a dictionary, and then add them to a list.\n",
        "\n"
      ],
      "metadata": {
        "id": "eBwBX6xdDjmi"
      }
    },
    {
      "cell_type": "code",
      "source": [
        "result = []\n",
        "data = json_data['itemListElement']\n",
        "for index in data:\n",
        "\n",
        "  movie_name = index['item']['name'].replace(\"&apos;\", \"'\")\n",
        "  movie_genre = index['item']['genre']\n",
        "  movie_rating = index['item']['aggregateRating']['ratingValue']\n",
        "  movie_duration = index['item']['duration'].replace(\"PT\", \"\")\n",
        "  final_data = {\"Movie\": movie_name,\n",
        "                \"Genre\": movie_genre,\n",
        "                \"Rating\": movie_rating,\n",
        "                \"Duration\": movie_duration\n",
        "                }\n",
        "  result.append(final_data)"
      ],
      "metadata": {
        "id": "f0rPLqwrDoDI"
      },
      "execution_count": 48,
      "outputs": []
    },
    {
      "cell_type": "markdown",
      "source": [
        "\n",
        "\n",
        "*   Now our list is filled with top IMBD movies along with their details. Then display the list of movie details.\n",
        "\n"
      ],
      "metadata": {
        "id": "jyazMSXBDqrW"
      }
    },
    {
      "cell_type": "code",
      "source": [
        "for movie in result:\n",
        "    print(movie['Movie'], movie['Genre'], '(' + str(movie['Rating']) + ')', movie['Duration'])"
      ],
      "metadata": {
        "colab": {
          "base_uri": "https://localhost:8080/"
        },
        "id": "8WMIOu69DwDr",
        "outputId": "cb6d64d1-3cbe-4969-91e2-66bf9b9cea6f"
      },
      "execution_count": 49,
      "outputs": [
        {
          "output_type": "stream",
          "name": "stdout",
          "text": [
            "The Shawshank Redemption Drama (9.3) 2H22M\n",
            "The Godfather Crime, Drama (9.2) 2H55M\n",
            "The Dark Knight Action, Crime, Drama (9) 2H32M\n",
            "The Godfather Part II Crime, Drama (9) 3H22M\n",
            "12 Angry Men Crime, Drama (9) 1H36M\n",
            "The Lord of the Rings: The Return of the King Adventure, Drama, Fantasy (9) 3H21M\n",
            "Schindler's List Biography, Drama, History (9) 3H15M\n",
            "Pulp Fiction Crime, Drama (8.8) 2H34M\n",
            "The Lord of the Rings: The Fellowship of the Ring Adventure, Drama, Fantasy (8.9) 2H58M\n",
            "Il buono, il brutto, il cattivo Adventure, Drama, Western (8.8) 2H58M\n",
            "Forrest Gump Drama, Romance (8.8) 2H22M\n",
            "The Lord of the Rings: The Two Towers Adventure, Drama, Fantasy (8.8) 2H59M\n",
            "Fight Club Crime, Drama, Thriller (8.8) 2H19M\n",
            "Inception Action, Adventure, Sci-Fi (8.8) 2H28M\n",
            "Star Wars: Episode V - The Empire Strikes Back Action, Adventure, Fantasy (8.7) 2H4M\n",
            "The Matrix Action, Sci-Fi (8.7) 2H16M\n",
            "GoodFellas Biography, Crime, Drama (8.7) 2H25M\n",
            "Interstellar Adventure, Drama, Sci-Fi (8.7) 2H49M\n",
            "One Flew Over the Cuckoo's Nest Drama (8.7) 2H13M\n",
            "Se7en Crime, Drama, Mystery (8.6) 2H7M\n",
            "It's a Wonderful Life Drama, Family, Fantasy (8.6) 2H10M\n",
            "The Silence of the Lambs Crime, Drama, Horror (8.6) 1H58M\n",
            "Shichinin no samurai Action, Drama (8.6) 3H27M\n",
            "Saving Private Ryan Drama, War (8.6) 2H49M\n",
            "The Green Mile Crime, Drama, Fantasy (8.6) 3H9M\n",
            "Cidade de Deus Crime, Drama (8.6) 2H10M\n",
            "La vita è bella Comedy, Drama, Romance (8.6) 1H56M\n",
            "Terminator 2: Judgment Day Action, Adventure, Sci-Fi (8.6) 2H17M\n",
            "Star Wars Action, Adventure, Fantasy (8.6) 2H1M\n",
            "Back to the Future Adventure, Comedy, Sci-Fi (8.5) 1H56M\n",
            "Sen to Chihiro no kamikakushi Animation, Adventure, Family (8.6) 2H4M\n",
            "The Pianist Biography, Drama, Music (8.5) 2H30M\n",
            "Gladiator Action, Adventure, Drama (8.5) 2H35M\n",
            "Gisaengchung Drama, Thriller (8.5) 2H12M\n",
            "Psycho Drama, Horror, Mystery (8.5) 1H49M\n",
            "The Lion King Animation, Adventure, Drama (8.5) 1H28M\n",
            "Hotaru no haka Animation, Drama, War (8.5) 1H28M\n",
            "The Departed Crime, Drama, Thriller (8.5) 2H31M\n",
            "Whiplash Drama, Music (8.5) 1H46M\n",
            "Seppuku Drama, Mystery (8.6) 2H13M\n",
            "The Prestige Drama, Mystery, Sci-Fi (8.5) 2H10M\n",
            "American History X Crime, Drama (8.5) 1H59M\n",
            "Léon Action, Crime, Drama (8.5) 1H50M\n",
            "Spider-Man: Across the Spider-Verse Animation, Action, Adventure (8.5) 2H20M\n",
            "Casablanca Drama, Romance, War (8.5) 1H42M\n",
            "The Usual Suspects Crime, Drama, Mystery (8.5) 1H46M\n",
            "Nuovo Cinema Paradiso Drama, Romance (8.5) 2H54M\n",
            "Intouchables Comedy, Drama (8.5) 1H52M\n",
            "Alien Horror, Sci-Fi (8.5) 1H57M\n",
            "Modern Times Comedy, Drama, Romance (8.5) 1H27M\n",
            "Rear Window Drama, Mystery, Thriller (8.5) 1H52M\n",
            "C'era una volta il West Drama, Western (8.5) 2H46M\n",
            "Django Unchained Drama, Western (8.5) 2H45M\n",
            "City Lights Comedy, Drama, Romance (8.5) 1H27M\n",
            "Apocalypse Now Drama, Mystery, War (8.4) 2H27M\n",
            "WALL·E Animation, Adventure, Family (8.4) 1H38M\n",
            "Memento Drama, Mystery, Thriller (8.4) 1H53M\n",
            "Dune: Part Two Action, Adventure, Drama (8.5) 2H46M\n",
            "Raiders of the Lost Ark Action, Adventure (8.4) 1H55M\n",
            "Avengers: Infinity War Action, Adventure, Sci-Fi (8.4) 2H29M\n",
            "Das Leben der Anderen Drama, Mystery, Thriller (8.4) 2H17M\n",
            "Sunset Boulevard Drama, Film-Noir (8.4) 1H50M\n",
            "Spider-Man: Into the Spider-Verse Animation, Action, Adventure (8.4) 1H57M\n",
            "Witness for the Prosecution Crime, Drama, Mystery (8.4) 1H56M\n",
            "Paths of Glory Drama, War (8.4) 1H28M\n",
            "The Shining Drama, Horror (8.4) 2H26M\n",
            "The Great Dictator Comedy, Drama, War (8.4) 2H5M\n",
            "12th Fail Biography, Drama (8.7) 2H27M\n",
            "Inglourious Basterds Adventure, Drama, War (8.4) 2H33M\n",
            "Aliens Action, Adventure, Horror (8.4) 2H17M\n",
            "The Dark Knight Rises Action, Crime, Drama (8.4) 2H44M\n",
            "Coco Animation, Adventure, Drama (8.4) 1H45M\n",
            "Amadeus Biography, Drama, Music (8.4) 2H40M\n",
            "Avengers: Endgame Action, Adventure, Sci-Fi (8.4) 3H1M\n",
            "Toy Story Animation, Adventure, Comedy (8.3) 1H21M\n",
            "Good Will Hunting Drama, Romance (8.3) 2H6M\n",
            "Dr. Strangelove or: How I Learned to Stop Worrying and Love the Bomb Comedy, War (8.3) 1H35M\n",
            "Oldeuboi Action, Drama, Mystery (8.3) 2H\n",
            "Das Boot Drama, War (8.4) 2H29M\n",
            "Braveheart Biography, Drama, War (8.3) 2H58M\n",
            "Tengoku to jigoku Crime, Drama, Mystery (8.4) 2H23M\n",
            "American Beauty Drama (8.3) 2H2M\n",
            "Mononoke-hime Animation, Adventure, Fantasy (8.3) 2H13M\n",
            "Kimi no na wa. Animation, Drama, Fantasy (8.4) 1H46M\n",
            "3 Idiots Comedy, Drama (8.4) 2H50M\n",
            "Joker Crime, Drama, Thriller (8.3) 2H2M\n",
            "Capharnaüm Drama (8.4) 2H6M\n",
            "Once Upon a Time in America Crime, Drama (8.3) 3H49M\n",
            "Singin' in the Rain Comedy, Musical, Romance (8.3) 1H43M\n",
            "Idi i smotri Drama, Thriller, War (8.3) 2H22M\n",
            "Requiem for a Dream Drama (8.3) 1H42M\n",
            "Star Wars: Episode VI - Return of the Jedi Action, Adventure, Fantasy (8.3) 2H11M\n",
            "Toy Story 3 Animation, Adventure, Comedy (8.3) 1H43M\n",
            "Jagten Drama (8.3) 1H55M\n",
            "Ikiru Drama (8.3) 2H23M\n",
            "Eternal Sunshine of the Spotless Mind Drama, Romance, Sci-Fi (8.3) 1H48M\n",
            "Incendies Drama, Mystery, War (8.3) 2H11M\n",
            "2001: A Space Odyssey Adventure, Sci-Fi (8.3) 2H29M\n",
            "The Apartment Comedy, Drama, Romance (8.3) 2H5M\n",
            "Lawrence of Arabia Adventure, Biography, Drama (8.3) 3H47M\n",
            "Reservoir Dogs Crime, Thriller (8.3) 1H39M\n",
            "Scarface Crime, Drama (8.3) 2H50M\n",
            "Heat Action, Crime, Drama (8.3) 2H50M\n",
            "Double Indemnity Crime, Drama, Film-Noir (8.3) 1H47M\n",
            "North by Northwest Adventure, Drama, Mystery (8.3) 2H16M\n",
            "Up Animation, Adventure, Comedy (8.3) 1H36M\n",
            "Citizen Kane Drama, Mystery (8.3) 1H59M\n",
            "M - Eine Stadt sucht einen Mörder Crime, Mystery, Thriller (8.3) 1H39M\n",
            "Full Metal Jacket Drama, War (8.2) 1H56M\n",
            "Vertigo Mystery, Romance, Thriller (8.2) 2H8M\n",
            "Le fabuleux destin d'Amélie Poulain Comedy, Romance (8.3) 2H2M\n",
            "Taare Zameen Par Drama, Family (8.3) 2H42M\n",
            "Hababam Sinifi: Sinifta Kaldi Comedy (8.7) 1H35M\n",
            "Jodaeiye Nader az Simin Drama (8.3) 2H3M\n",
            "To Kill a Mockingbird Crime, Drama (8.3) 2H9M\n",
            "Die Hard Action, Thriller (8.2) 2H12M\n",
            "Indiana Jones and the Last Crusade Action, Adventure (8.2) 2H7M\n",
            "A Clockwork Orange Crime, Sci-Fi (8.2) 2H16M\n",
            "The Sting Comedy, Crime, Drama (8.2) 2H9M\n",
            "Metropolis Drama, Sci-Fi (8.3) 2H33M\n",
            "Oppenheimer Biography, Drama, History (8.3) 3H\n",
            "Snatch Comedy, Crime (8.2) 1H42M\n",
            "1917 Action, Drama, War (8.2) 1H59M\n",
            "L.A. Confidential Crime, Drama, Mystery (8.2) 2H18M\n",
            "Ladri di biciclette Drama (8.2) 1H29M\n",
            "Der Untergang Biography, Drama, History (8.2) 2H36M\n",
            "Dangal Action, Biography, Drama (8.3) 2H41M\n",
            "The Wolf of Wall Street Biography, Comedy, Crime (8.2) 3H\n",
            "Hamilton Biography, Drama, History (8.3) 2H40M\n",
            "Green Book Biography, Comedy, Drama (8.2) 2H10M\n",
            "Taxi Driver Crime, Drama (8.2) 1H54M\n",
            "Batman Begins Action, Crime, Drama (8.2) 2H20M\n",
            "The Truman Show Comedy, Drama (8.2) 1H43M\n",
            "Per qualche dollaro in più Drama, Western (8.2) 2H12M\n",
            "Judgment at Nuremberg Drama, War (8.3) 2H59M\n",
            "Some Like It Hot Comedy, Music, Romance (8.2) 2H1M\n",
            "Shutter Island Drama, Mystery, Thriller (8.2) 2H18M\n",
            "The Kid Comedy, Drama, Family (8.2) 1H8M\n",
            "The Father Drama, Mystery (8.2) 1H37M\n",
            "Jurassic Park Action, Adventure, Sci-Fi (8.2) 2H7M\n",
            "All About Eve Drama (8.2) 2H18M\n",
            "There Will Be Blood Drama (8.2) 2H38M\n",
            "The Sixth Sense Drama, Mystery, Thriller (8.2) 1H47M\n",
            "Ran Action, Drama, War (8.2) 2H40M\n",
            "Casino Crime, Drama (8.2) 2H58M\n",
            "Top Gun: Maverick Action, Drama (8.2) 2H10M\n",
            "No Country for Old Men Crime, Drama, Thriller (8.2) 2H2M\n",
            "The Thing Horror, Mystery, Sci-Fi (8.2) 1H49M\n",
            "Unforgiven Drama, Western (8.2) 2H10M\n",
            "El laberinto del fauno Drama, Fantasy, War (8.2) 1H58M\n",
            "Kill Bill: Vol. 1 Action, Crime, Thriller (8.2) 1H51M\n",
            "A Beautiful Mind Biography, Drama, Mystery (8.2) 2H15M\n",
            "Prisoners Crime, Drama, Mystery (8.2) 2H33M\n",
            "The Treasure of the Sierra Madre Adventure, Drama, Western (8.2) 2H6M\n",
            "Yôjinbô Action, Drama, Thriller (8.2) 1H50M\n",
            "Finding Nemo Animation, Adventure, Comedy (8.2) 1H40M\n",
            "Hauru no ugoku shiro Animation, Adventure, Family (8.2) 1H59M\n",
            "The Great Escape Adventure, Drama, Thriller (8.2) 2H52M\n",
            "Monty Python and the Holy Grail Adventure, Comedy, Fantasy (8.2) 1H31M\n",
            "The Elephant Man Biography, Drama (8.2) 2H4M\n",
            "Dial M for Murder Crime, Drama, Mystery (8.2) 1H45M\n",
            "Klaus Animation, Adventure, Comedy (8.2) 1H36M\n",
            "Gone with the Wind Drama, Romance, War (8.2) 3H58M\n",
            "Chinatown Drama, Mystery, Thriller (8.1) 2H10M\n",
            "El secreto de sus ojos Drama, Mystery, Romance (8.2) 2H9M\n",
            "Lock, Stock and Two Smoking Barrels Comedy, Crime (8.1) 1H47M\n",
            "Rashômon Crime, Drama, Mystery (8.2) 1H28M\n",
            "V for Vendetta Action, Drama, Sci-Fi (8.1) 2H12M\n",
            "Inside Out Animation, Adventure, Comedy (8.1) 1H35M\n",
            "Three Billboards Outside Ebbing, Missouri Comedy, Crime, Drama (8.1) 1H55M\n",
            "Catch Me If You Can Biography, Crime, Drama (8.1) 2H21M\n",
            "Trainspotting Crime, Drama (8.1) 1H33M\n",
            "The Bridge on the River Kwai Adventure, Drama, War (8.1) 2H41M\n",
            "Raging Bull Biography, Drama, Sport (8.1) 2H9M\n",
            "The Wild Robot Animation, Adventure, Family (8.2) 1H42M\n",
            "Fargo Crime, Drama, Thriller (8.1) 1H38M\n",
            "Harry Potter and the Deathly Hallows: Part 2 Adventure, Family, Fantasy (8.1) 2H10M\n",
            "Warrior Action, Drama, Sport (8.1) 2H20M\n",
            "Gran Torino Drama (8.1) 1H56M\n",
            "Million Dollar Baby Drama, Sport (8.1) 2H12M\n",
            "Ben-Hur Adventure, Drama (8.1) 3H32M\n",
            "Mad Max: Fury Road Action, Adventure, Sci-Fi (8.1) 2H\n",
            "Tonari no Totoro Animation, Comedy, Family (8.1) 1H26M\n",
            "Barry Lyndon Adventure, Drama, War (8.1) 3H5M\n",
            "Dead Poets Society Comedy, Drama (8.1) 2H8M\n",
            "Bacheha-ye aseman Drama, Family, Sport (8.2) 1H29M\n",
            "Hacksaw Ridge Biography, Drama, History (8.1) 2H19M\n",
            "Spider-Man: No Way Home Action, Adventure, Fantasy (8.2) 2H28M\n",
            "The Grand Budapest Hotel Comedy, Drama (8.1) 1H39M\n",
            "12 Years a Slave Biography, Drama, History (8.1) 2H14M\n",
            "Before Sunrise Comedy, Drama, Romance (8.1) 1H41M\n",
            "Blade Runner Action, Drama, Sci-Fi (8.1) 1H57M\n",
            "Salinui chueok Crime, Drama, Mystery (8.1) 2H12M\n",
            "Gone Girl Drama, Mystery, Thriller (8.1) 2H29M\n",
            "Ratatouille Animation, Adventure, Comedy (8.1) 1H51M\n",
            "How to Train Your Dragon Animation, Action, Adventure (8.1) 1H38M\n",
            "Monsters, Inc. Animation, Adventure, Comedy (8.1) 1H32M\n",
            "In the Name of the Father Biography, Crime, Drama (8.1) 2H13M\n",
            "Jaws Adventure, Horror, Thriller (8.1) 2H4M\n",
            "Relatos salvajes Comedy, Drama, Thriller (8.1) 2H2M\n",
            "The Gold Rush Adventure, Comedy, Drama (8.1) 1H35M\n",
            "Sherlock Jr. Action, Comedy, Romance (8.2) 45M\n",
            "Ford v Ferrari Action, Biography, Drama (8.1) 2H32M\n",
            "Mary and Max. Animation, Comedy, Drama (8.1) 1H32M\n",
            "The Deer Hunter Drama, War (8.1) 3H3M\n",
            "Le salaire de la peur Adventure, Drama, Thriller (8.1) 2H36M\n",
            "The General Action, Adventure, Comedy (8.1) 1H18M\n",
            "Mr. Smith Goes to Washington Comedy, Drama (8.1) 2H9M\n",
            "On the Waterfront Crime, Drama, Thriller (8.1) 1H48M\n",
            "Logan Action, Drama, Sci-Fi (8.1) 2H17M\n",
            "Smultronstället Drama, Romance (8.1) 1H32M\n",
            "Rocky Drama, Sport (8.1) 2H\n",
            "The Third Man Drama, Film-Noir, Mystery (8.1) 1H44M\n",
            "Tôkyô monogatari Drama (8.1) 2H17M\n",
            "Spotlight Biography, Crime, Drama (8.1) 2H9M\n",
            "The Terminator Action, Adventure, Sci-Fi (8.1) 1H47M\n",
            "Pirates of the Caribbean: The Curse of the Black Pearl Action, Adventure, Fantasy (8.1) 2H23M\n",
            "The Big Lebowski Comedy, Crime (8.1) 1H57M\n",
            "Maharaja Action, Crime, Drama (8.4) 2H21M\n",
            "Det sjunde inseglet Drama, Fantasy (8.1) 1H36M\n",
            "La haine Crime, Drama (8.1) 1H38M\n",
            "Room Drama, Thriller (8.1) 1H58M\n",
            "Jai Bhim Crime, Drama (8.6) 2H44M\n",
            "Hotel Rwanda Biography, Drama, History (8.1) 2H1M\n",
            "Platoon Drama, War (8.1) 2H\n",
            "The Best Years of Our Lives Drama, Romance, War (8.1) 2H50M\n",
            "Before Sunset Drama, Romance (8.1) 1H20M\n",
            "The Sound of Music Biography, Drama, Family (8.1) 2H52M\n",
            "The Exorcist Horror (8.1) 2H2M\n",
            "The Incredibles Animation, Action, Adventure (8) 1H55M\n",
            "The Wizard of Oz Adventure, Family, Fantasy (8.1) 1H42M\n",
            "Hachi: A Dog's Tale Biography, Drama, Family (8.1) 1H33M\n",
            "Rush Biography, Drama, Sport (8.1) 2H3M\n",
            "La passion de Jeanne d'Arc Biography, Drama, History (8.1) 1H54M\n",
            "Stand by Me Adventure, Comedy, Drama (8.1) 1H29M\n",
            "Babam ve Oglum Drama, Family (8.2) 1H52M\n",
            "Koe no katachi Animation, Drama (8.1) 2H10M\n",
            "The Iron Giant Animation, Action, Adventure (8.1) 1H26M\n",
            "Network Drama (8.1) 2H1M\n",
            "Ah-ga-ssi Drama, Romance, Thriller (8.1) 2H25M\n",
            "La battaglia di Algeri Drama, War (8.1) 2H1M\n",
            "The Grapes of Wrath Drama (8.1) 2H9M\n",
            "To Be or Not to Be Comedy, Romance, War (8.1) 1H39M\n",
            "Into the Wild Adventure, Biography, Drama (8) 2H28M\n",
            "Groundhog Day Comedy, Drama, Fantasy (8) 1H41M\n",
            "The Help Drama (8.1) 2H26M\n",
            "Gangs of Wasseypur Action, Comedy, Crime (8.2) 5H21M\n",
            "Drishyam Crime, Drama, Mystery (8.2) 2H43M\n",
            "Andhadhun Crime, Mystery, Thriller (8.2) 2H19M\n",
            "Amores perros Drama, Thriller (8) 2H34M\n"
          ]
        }
      ]
    },
    {
      "cell_type": "markdown",
      "source": [
        "\n",
        "\n",
        "*   By using the following lines of code the same data can be saved into a .csv file be further used as a dataset.\n",
        "\n"
      ],
      "metadata": {
        "id": "oSCX0pRHDzi5"
      }
    },
    {
      "cell_type": "code",
      "source": [
        "#saving the result as dataframe\n",
        "#then converting into .csv file\n",
        "df = pd.DataFrame(result)\n",
        "df.to_csv('imdb_top_250_movies.csv',index=False)"
      ],
      "metadata": {
        "id": "gMA8KkY_D31i"
      },
      "execution_count": 50,
      "outputs": []
    }
  ]
}